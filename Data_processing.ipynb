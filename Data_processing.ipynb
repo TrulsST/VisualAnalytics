{
 "cells": [
  {
   "cell_type": "code",
   "execution_count": 6,
   "id": "81ace141",
   "metadata": {},
   "outputs": [],
   "source": [
    "import pandas as pd\n",
    "import countryinfo as cf # Source: https://gist.github.com/canfixit/1662664\n"
   ]
  },
  {
   "cell_type": "code",
   "execution_count": 7,
   "id": "3e6c3606",
   "metadata": {},
   "outputs": [
    {
     "name": "stdout",
     "output_type": "stream",
     "text": [
      "Russia\n",
      "San Marino\n",
      "Vatican City\n",
      "Monaco\n",
      "Number of countries:  40\n"
     ]
    }
   ],
   "source": [
    "countries = cf.countries\n",
    "eu_codes = []\n",
    "eu_names = []\n",
    "iso_name = {}\n",
    "exclusion_list = ['San Marino', 'Russia', 'Vatican City', 'Monaco']\n",
    "for co in countries:\n",
    "    \n",
    "    # Excluding Russia, Monacco, San Marino and Vatican City bc. lack of data\n",
    "    if co['name'] in exclusion_list:\n",
    "        print(co['name'])\n",
    "        continue\n",
    "        \n",
    "    if co['continent'].lower() == 'europe':\n",
    "        iso = co['code']\n",
    "        name = co['name']\n",
    "        eu_codes.append(iso)\n",
    "        eu_names.append(name)\n",
    "        iso_name[iso] = name\n",
    "        \n",
    "tot_num_c = len(eu_codes)\n",
    "print(\"Number of countries: \", tot_num_c)"
   ]
  },
  {
   "cell_type": "markdown",
   "id": "53dfabe9",
   "metadata": {},
   "source": [
    "#### Source: https://gist.github.com/canfixit/1662664\n",
    "\n",
    "\n",
    "#### Must rename some of the countries in some datasets in order to merge on the right values, as the source uses different names for the countries. Best method is to use ISO-codes, as these are generalistic but not all datasets might be provided with ISO, only country name. "
   ]
  },
  {
   "cell_type": "code",
   "execution_count": 8,
   "id": "867edb80",
   "metadata": {
    "scrolled": true
   },
   "outputs": [],
   "source": [
    "\"\"\"\n",
    "Temperature x\n",
    "Emissions, Population x\n",
    "GDP x\n",
    "Green bonds x\n",
    "Environmental taxes\n",
    "Environmental protection expenditure\n",
    "Electric vehicles x\n",
    "Greenhouse policies x\n",
    "\"\"\"\n",
    "# Main dataframe\n",
    "df_main = None\n",
    "# Time period from 2012 to 2022\n",
    "time_period = list(range(2012, 2022))"
   ]
  },
  {
   "cell_type": "code",
   "execution_count": 9,
   "id": "28b6dbf3",
   "metadata": {},
   "outputs": [
    {
     "name": "stdout",
     "output_type": "stream",
     "text": [
      "<class 'pandas.core.frame.DataFrame'>\n",
      "Int64Index: 2440 entries, 0 to 2439\n",
      "Data columns (total 5 columns):\n",
      " #   Column                Non-Null Count  Dtype  \n",
      "---  ------                --------------  -----  \n",
      " 0   country               2440 non-null   object \n",
      " 1   ISO2                  2440 non-null   object \n",
      " 2   ISO3                  2440 non-null   object \n",
      " 3   year                  2440 non-null   int64  \n",
      " 4   Temperature Change C  1898 non-null   float64\n",
      "dtypes: float64(1), int64(1), object(3)\n",
      "memory usage: 114.4+ KB\n"
     ]
    }
   ],
   "source": [
    "df_temp_change = pd.read_csv(\"data/Annual_Surface_Temperature_Change.csv\")\n",
    "\n",
    "df_temp_change = df_temp_change[df_temp_change['ISO2'].isin(eu_codes)]\n",
    "\n",
    "df_temp_change = df_temp_change.drop(['Unit', 'CTS_Code', 'Indicator', 'Source', 'CTS_Name', 'ObjectId', 'CTS_Full_Descriptor'], axis = 1, inplace=False)\n",
    "df_temp_change.columns = [str(x).split(\"F\")[-1] for x in df_temp_change.columns]\n",
    "\n",
    "df_temp_change.columns= df_temp_change.columns.str.lower()\n",
    "df_temp_change = pd.melt(df_temp_change, id_vars=[\"country\", \"iso2\", 'iso3'], var_name = ['year'], value_name = 'temp_change C')\n",
    "df_temp_change[\"year\"] = pd.to_numeric(df_temp_change[\"year\"])\n",
    "\n",
    "df_temp_change.sort_values(by=[\"country\", 'year'], inplace=True)\n",
    "df_temp_change.columns = ['country', 'ISO2', 'ISO3', 'year', 'Temperature Change C']\n",
    "df_temp_change.info()\n"
   ]
  },
  {
   "cell_type": "code",
   "execution_count": 11,
   "id": "ffd7eb61",
   "metadata": {},
   "outputs": [
    {
     "name": "stdout",
     "output_type": "stream",
     "text": [
      "All countries:  False\n",
      "<class 'pandas.core.frame.DataFrame'>\n",
      "Int64Index: 6556 entries, 517 to 29726\n",
      "Data columns (total 3 columns):\n",
      " #   Column                  Non-Null Count  Dtype  \n",
      "---  ------                  --------------  -----  \n",
      " 0   ISO3                    6556 non-null   object \n",
      " 1   year                    6556 non-null   int64  \n",
      " 2   annual t co2 emmisions  6556 non-null   float64\n",
      "dtypes: float64(1), int64(1), object(1)\n",
      "memory usage: 204.9+ KB\n"
     ]
    }
   ],
   "source": [
    "df_co2 = pd.read_csv(\"data/annual-co2-emissions-per-country.csv\")\n",
    "df_co2.columns = df_co2.columns.str.lower()\n",
    "df_co2.columns = ['country', 'ISO3', 'year', 'annual co2 emmisions']\n",
    "df_co2 = df_co2[df_co2['ISO3'].isin(set(df_temp_change['ISO3']))]\n",
    "\n",
    "df_co2[\"year\"] = pd.to_numeric(df_co2[\"year\"])\n",
    "df_co2 = df_co2[['ISO3', 'year', 'annual co2 emmisions']]\n",
    "df_co2.rename(columns={'annual co2 emmisions' : 'annual t co2 emmisions'}, inplace = True)\n",
    "print(\"All countries: \", len((set(eu_codes) - set(df_co2['ISO3']))) == 0)\n",
    "df_co2.info()"
   ]
  },
  {
   "cell_type": "code",
   "execution_count": 12,
   "id": "8843f199",
   "metadata": {},
   "outputs": [
    {
     "name": "stdout",
     "output_type": "stream",
     "text": [
      "All countries:  False\n",
      "<class 'pandas.core.frame.DataFrame'>\n",
      "RangeIndex: 2480 entries, 0 to 2479\n",
      "Data columns (total 3 columns):\n",
      " #   Column   Non-Null Count  Dtype  \n",
      "---  ------   --------------  -----  \n",
      " 0   ISO3     2480 non-null   object \n",
      " 1   year     2480 non-null   int64  \n",
      " 2   GDP US$  1824 non-null   float64\n",
      "dtypes: float64(1), int64(1), object(1)\n",
      "memory usage: 58.2+ KB\n"
     ]
    }
   ],
   "source": [
    "df_gdp = pd.read_csv(\"data/GDP.csv\",delimiter=\";\")\n",
    "#Drop last column, as it is no values\n",
    "df_gdp = df_gdp.iloc[: , :-1]\n",
    "\n",
    "df_gdp = df_gdp[df_gdp['Country Code'].isin(set(df_temp_change['ISO3']))]\n",
    "df_gdp.drop(['Country Name', 'Indicator Name', 'Indicator Code'], axis = 1, inplace = True)\n",
    "df_gdp.columns = df_gdp.columns.str.lower()\n",
    "df_gdp.rename(columns = {'country code' : \"ISO3\"}, inplace=True)\n",
    "\n",
    "df_gdp = pd.melt(df_gdp, id_vars=[\"ISO3\"], var_name = ['year'], value_name = 'GDP US$')\n",
    "df_gdp[\"year\"] = pd.to_numeric(df_gdp[\"year\"])\n",
    "\n",
    "print(\"All countries: \", len((set(eu_codes) - set(df_gdp['ISO3']))) == 0)\n",
    "\n",
    "df_gdp.info()"
   ]
  },
  {
   "cell_type": "code",
   "execution_count": 14,
   "id": "f6f43e2f",
   "metadata": {},
   "outputs": [
    {
     "name": "stdout",
     "output_type": "stream",
     "text": [
      "Missing countries:  {'AT', 'GB', 'LV', 'FI', 'BY', 'NO', 'MK', 'UA', 'LI', 'ME', 'DK', 'DE', 'IE', 'PT', 'SK', 'GR', 'AL', 'HR', 'BE', 'ES', 'BG', 'IT', 'HU', 'SE', 'LU', 'BA', 'IS', 'MD', 'LT', 'SI', 'AD', 'CZ', 'NL', 'RO', 'PL', 'FR', 'RS', 'EE', 'MT', 'CH'}\n"
     ]
    },
    {
     "data": {
      "text/html": [
       "<div>\n",
       "<style scoped>\n",
       "    .dataframe tbody tr th:only-of-type {\n",
       "        vertical-align: middle;\n",
       "    }\n",
       "\n",
       "    .dataframe tbody tr th {\n",
       "        vertical-align: top;\n",
       "    }\n",
       "\n",
       "    .dataframe thead th {\n",
       "        text-align: right;\n",
       "    }\n",
       "</style>\n",
       "<table border=\"1\" class=\"dataframe\">\n",
       "  <thead>\n",
       "    <tr style=\"text-align: right;\">\n",
       "      <th></th>\n",
       "      <th>ISO3</th>\n",
       "      <th>year</th>\n",
       "      <th>Green Bonds Issuance US$</th>\n",
       "    </tr>\n",
       "  </thead>\n",
       "  <tbody>\n",
       "    <tr>\n",
       "      <th>29</th>\n",
       "      <td>GBR</td>\n",
       "      <td>1985</td>\n",
       "      <td>NaN</td>\n",
       "    </tr>\n",
       "    <tr>\n",
       "      <th>59</th>\n",
       "      <td>GBR</td>\n",
       "      <td>1986</td>\n",
       "      <td>NaN</td>\n",
       "    </tr>\n",
       "    <tr>\n",
       "      <th>89</th>\n",
       "      <td>GBR</td>\n",
       "      <td>1987</td>\n",
       "      <td>NaN</td>\n",
       "    </tr>\n",
       "    <tr>\n",
       "      <th>119</th>\n",
       "      <td>GBR</td>\n",
       "      <td>1990</td>\n",
       "      <td>NaN</td>\n",
       "    </tr>\n",
       "    <tr>\n",
       "      <th>149</th>\n",
       "      <td>GBR</td>\n",
       "      <td>1991</td>\n",
       "      <td>NaN</td>\n",
       "    </tr>\n",
       "    <tr>\n",
       "      <th>179</th>\n",
       "      <td>GBR</td>\n",
       "      <td>1992</td>\n",
       "      <td>NaN</td>\n",
       "    </tr>\n",
       "    <tr>\n",
       "      <th>209</th>\n",
       "      <td>GBR</td>\n",
       "      <td>1993</td>\n",
       "      <td>NaN</td>\n",
       "    </tr>\n",
       "    <tr>\n",
       "      <th>239</th>\n",
       "      <td>GBR</td>\n",
       "      <td>1994</td>\n",
       "      <td>NaN</td>\n",
       "    </tr>\n",
       "    <tr>\n",
       "      <th>269</th>\n",
       "      <td>GBR</td>\n",
       "      <td>1999</td>\n",
       "      <td>NaN</td>\n",
       "    </tr>\n",
       "    <tr>\n",
       "      <th>299</th>\n",
       "      <td>GBR</td>\n",
       "      <td>2000</td>\n",
       "      <td>NaN</td>\n",
       "    </tr>\n",
       "    <tr>\n",
       "      <th>329</th>\n",
       "      <td>GBR</td>\n",
       "      <td>2002</td>\n",
       "      <td>NaN</td>\n",
       "    </tr>\n",
       "    <tr>\n",
       "      <th>359</th>\n",
       "      <td>GBR</td>\n",
       "      <td>2003</td>\n",
       "      <td>NaN</td>\n",
       "    </tr>\n",
       "    <tr>\n",
       "      <th>389</th>\n",
       "      <td>GBR</td>\n",
       "      <td>2004</td>\n",
       "      <td>NaN</td>\n",
       "    </tr>\n",
       "    <tr>\n",
       "      <th>419</th>\n",
       "      <td>GBR</td>\n",
       "      <td>2007</td>\n",
       "      <td>NaN</td>\n",
       "    </tr>\n",
       "    <tr>\n",
       "      <th>449</th>\n",
       "      <td>GBR</td>\n",
       "      <td>2008</td>\n",
       "      <td>NaN</td>\n",
       "    </tr>\n",
       "    <tr>\n",
       "      <th>479</th>\n",
       "      <td>GBR</td>\n",
       "      <td>2009</td>\n",
       "      <td>NaN</td>\n",
       "    </tr>\n",
       "    <tr>\n",
       "      <th>509</th>\n",
       "      <td>GBR</td>\n",
       "      <td>2010</td>\n",
       "      <td>NaN</td>\n",
       "    </tr>\n",
       "    <tr>\n",
       "      <th>539</th>\n",
       "      <td>GBR</td>\n",
       "      <td>2011</td>\n",
       "      <td>NaN</td>\n",
       "    </tr>\n",
       "    <tr>\n",
       "      <th>569</th>\n",
       "      <td>GBR</td>\n",
       "      <td>2012</td>\n",
       "      <td>NaN</td>\n",
       "    </tr>\n",
       "    <tr>\n",
       "      <th>599</th>\n",
       "      <td>GBR</td>\n",
       "      <td>2013</td>\n",
       "      <td>0.414683</td>\n",
       "    </tr>\n",
       "    <tr>\n",
       "      <th>629</th>\n",
       "      <td>GBR</td>\n",
       "      <td>2014</td>\n",
       "      <td>0.339748</td>\n",
       "    </tr>\n",
       "    <tr>\n",
       "      <th>659</th>\n",
       "      <td>GBR</td>\n",
       "      <td>2015</td>\n",
       "      <td>0.876491</td>\n",
       "    </tr>\n",
       "    <tr>\n",
       "      <th>689</th>\n",
       "      <td>GBR</td>\n",
       "      <td>2016</td>\n",
       "      <td>0.500000</td>\n",
       "    </tr>\n",
       "    <tr>\n",
       "      <th>719</th>\n",
       "      <td>GBR</td>\n",
       "      <td>2017</td>\n",
       "      <td>2.196610</td>\n",
       "    </tr>\n",
       "    <tr>\n",
       "      <th>749</th>\n",
       "      <td>GBR</td>\n",
       "      <td>2018</td>\n",
       "      <td>8.175406</td>\n",
       "    </tr>\n",
       "    <tr>\n",
       "      <th>779</th>\n",
       "      <td>GBR</td>\n",
       "      <td>2019</td>\n",
       "      <td>4.058670</td>\n",
       "    </tr>\n",
       "    <tr>\n",
       "      <th>809</th>\n",
       "      <td>GBR</td>\n",
       "      <td>2020</td>\n",
       "      <td>4.891677</td>\n",
       "    </tr>\n",
       "    <tr>\n",
       "      <th>839</th>\n",
       "      <td>GBR</td>\n",
       "      <td>2021</td>\n",
       "      <td>40.073010</td>\n",
       "    </tr>\n",
       "  </tbody>\n",
       "</table>\n",
       "</div>"
      ],
      "text/plain": [
       "    ISO3  year  Green Bonds Issuance US$\n",
       "29   GBR  1985                       NaN\n",
       "59   GBR  1986                       NaN\n",
       "89   GBR  1987                       NaN\n",
       "119  GBR  1990                       NaN\n",
       "149  GBR  1991                       NaN\n",
       "179  GBR  1992                       NaN\n",
       "209  GBR  1993                       NaN\n",
       "239  GBR  1994                       NaN\n",
       "269  GBR  1999                       NaN\n",
       "299  GBR  2000                       NaN\n",
       "329  GBR  2002                       NaN\n",
       "359  GBR  2003                       NaN\n",
       "389  GBR  2004                       NaN\n",
       "419  GBR  2007                       NaN\n",
       "449  GBR  2008                       NaN\n",
       "479  GBR  2009                       NaN\n",
       "509  GBR  2010                       NaN\n",
       "539  GBR  2011                       NaN\n",
       "569  GBR  2012                       NaN\n",
       "599  GBR  2013                  0.414683\n",
       "629  GBR  2014                  0.339748\n",
       "659  GBR  2015                  0.876491\n",
       "689  GBR  2016                  0.500000\n",
       "719  GBR  2017                  2.196610\n",
       "749  GBR  2018                  8.175406\n",
       "779  GBR  2019                  4.058670\n",
       "809  GBR  2020                  4.891677\n",
       "839  GBR  2021                 40.073010"
      ]
     },
     "execution_count": 14,
     "metadata": {},
     "output_type": "execute_result"
    }
   ],
   "source": [
    "# Green Bonds (in Billion $) Probably not inflation adjusted\n",
    "\n",
    "df_green_bonds = pd.read_csv(\"data/Green_Bonds.csv\")\n",
    "\n",
    "df_green_bonds = df_green_bonds[df_green_bonds['ISO3'].isin(set(df_temp_change['ISO3']))]\n",
    "df_green_bonds.tail(3)\n",
    "df_green_bonds.drop(['ISO2', 'Indicator', 'Source', 'CTS_Code', 'CTS_Full_Descriptor', 'Type_of_Issuer', 'Use_of_Proceed', 'Principal_Currency'],axis = 1, inplace=True)\n",
    "df_green_bonds.columns = df_green_bonds.columns.str.lower()\n",
    "df_green_bonds.columns = [str(x).split(\"f\")[-1] for x in df_green_bonds.columns]\n",
    "\n",
    "# Only keep cts_name equals Green Bonds Issuances, as we can calculate total later (cts_name == Green Bonds)\n",
    "df_green_bonds = df_green_bonds.loc[df_green_bonds['cts_name'] == 'Green Bonds Issuances'] \n",
    "df_green_bonds.drop(['cts_name', 'unit', 'objectid', 'country'],axis = 1, inplace=True)\n",
    "\n",
    "df_green_bonds.rename(columns = {'iso3' : \"ISO3\"}, inplace=True)\n",
    "\n",
    "df_green_bonds = pd.melt(df_green_bonds, id_vars=[\"ISO3\"], var_name = ['year'], value_name = 'Green Bonds Issuance US$')\n",
    "df_green_bonds[\"year\"] = pd.to_numeric(df_green_bonds[\"year\"])\n",
    "df_green_bonds.sort_values(by=[\"ISO3\", 'year'], inplace=True)\n",
    "\n",
    "print(\"Missing countries: \", (set(eu_codes) - set(df_green_bonds['ISO3'])))\n",
    "\n",
    "df_green_bonds[df_green_bonds['ISO3'] == 'GBR']"
   ]
  },
  {
   "cell_type": "markdown",
   "id": "a3659587",
   "metadata": {},
   "source": [
    "As we observe from the output, we are missing substantial data from some countries, as well as from many years, as green bonds issuance is quite new"
   ]
  },
  {
   "cell_type": "code",
   "execution_count": null,
   "id": "10f5d576",
   "metadata": {},
   "outputs": [],
   "source": [
    "# Population df\n",
    "\n",
    "df_pop = pd.read_csv(\"data/population.csv\")\n",
    "df_pop = df_pop[df_pop['Country Code'].isin(set(df_temp_change_euro['ISO3']))]\n",
    "df_pop.columns = df_pop.columns.str.lower()\n",
    "df_pop.columns = [str(x).split(\"[\")[0] for x in df_pop.columns]\n",
    "df_pop.drop(['series name', 'series code', 'country name'] ,axis=1, inplace = True)\n",
    "df_pop.rename(columns = {'country code' : \"ISO3\"}, inplace=True)\n",
    "df_pop = pd.melt(df_pop, id_vars=[\"ISO3\"], var_name = ['year'], value_name = 'population')\n",
    "df_pop[\"year\"] = pd.to_numeric(df_pop[\"year\"])\n",
    "df_pop[\"population\"] = pd.to_numeric(df_pop[\"population\"])\n",
    "df_pop.info()"
   ]
  },
  {
   "cell_type": "code",
   "execution_count": null,
   "id": "372ce157",
   "metadata": {},
   "outputs": [],
   "source": [
    "df_sales = pd.read_csv(\"data/IEA-EV-dataEV salesCarsHistorical.csv\")\n",
    "df_ev_chargingP = pd.read_csv(\"data/IEA-EV-dataEV charging pointsHistorical.csv\")\n",
    "#df_sales_share = pd.read_csv(\"data/\")"
   ]
  },
  {
   "cell_type": "markdown",
   "id": "729a5b34",
   "metadata": {},
   "source": [
    "Notes\n",
    "\n",
    "BEVs are battery electric vehicles. \n",
    "\n",
    "PHEVs are plug-in hybrid electric vehicles. \n",
    "\n",
    "FCEVs are fuel cell electric vehicles. \n",
    "\n",
    "EVs refers to all electric vehicles (BEVs + PHEVs)."
   ]
  },
  {
   "cell_type": "code",
   "execution_count": null,
   "id": "ea699b46",
   "metadata": {},
   "outputs": [],
   "source": [
    "df_sales[df_sales['region'] == \"Norway\"].head()\n"
   ]
  },
  {
   "cell_type": "code",
   "execution_count": null,
   "id": "1b361d89",
   "metadata": {},
   "outputs": [],
   "source": [
    "\n",
    "# one for BEVs and one for PHEV ??\n",
    "df_bev_sales = df_sales[df_sales['powertrain'] == \"BEV\"]\n",
    "df_phev_sales = df_sales[df_sales['powertrain'] == \"PHEV\"]\n",
    "df_bev_sales.head()"
   ]
  },
  {
   "cell_type": "code",
   "execution_count": null,
   "id": "7e5e7531",
   "metadata": {},
   "outputs": [],
   "source": [
    "df_ev_chargingP[df_ev_chargingP['region'] == \"Italy\"].head()"
   ]
  },
  {
   "cell_type": "code",
   "execution_count": null,
   "id": "20b71929",
   "metadata": {
    "scrolled": true
   },
   "outputs": [],
   "source": [
    "## EEA Greenhouse Policies by country\n",
    "\n",
    "df_greenhouse_policies = pd.read_csv(\"data/EEA_greenhouse_policies.csv\")\n",
    "df_greenhouse_policies.head(1)"
   ]
  },
  {
   "cell_type": "code",
   "execution_count": null,
   "id": "89d5102f",
   "metadata": {},
   "outputs": [],
   "source": [
    "set(eu_names) - set(df_greenhouse_policies['Country'].unique())"
   ]
  },
  {
   "cell_type": "code",
   "execution_count": null,
   "id": "a6628549",
   "metadata": {},
   "outputs": [],
   "source": [
    "set(df_greenhouse_policies['Country'].unique()) - set(eu_names)"
   ]
  },
  {
   "cell_type": "code",
   "execution_count": null,
   "id": "a36553e4",
   "metadata": {},
   "outputs": [],
   "source": [
    "country_name_change = { \n",
    "    'Czechia' : 'Czech Republic', \n",
    "    'Ireland' : 'Republic of Ireland', \n",
    "    'Netherlands' : 'Kingdom of the Netherlands'}"
   ]
  },
  {
   "cell_type": "markdown",
   "id": "6b22e3f7",
   "metadata": {},
   "source": [
    "# Merging into one main dataframe\n",
    "- With average and total as two seperate datasheets\n",
    "- Writing all final DataFrames into a complete Excel file"
   ]
  },
  {
   "cell_type": "code",
   "execution_count": null,
   "id": "2282b9c6",
   "metadata": {},
   "outputs": [],
   "source": [
    "df_main = df_temp_done\n",
    "\n",
    "# Check if all conseccutive years are present\n",
    "## Check if all years still in the dataset for every country\n",
    "for c in df_main['country'].unique():\n",
    "    for_this_c = df_main[df_main['country'] == c]\n",
    "    all_years = (for_this_c['year'] == list(range(min(for_this_c['year']), max(for_this_c['year']) + 1))).all()\n",
    "    if not all_years:\n",
    "        print(\"Not Consecutive years included for: \", c)\n",
    "print(\"Rest have all years included\")\n",
    "\n",
    "# Check if all countries in dataset\n",
    "print(\"Number of countries before: \",len(df_main['country'].unique()) == len(eu_codes))\n",
    "\n",
    "# Merge instead of join, because join uses index, while merge could specify\n",
    "# multiple columns\n",
    "# Using left joint, since we want to hold all values already in the dataframe\n",
    "# for instance the years, so all missing years in later merged dataframes\n",
    "# will be set to Nans\n",
    "\n",
    "# Merge all dataframes\n",
    "\n",
    "dfs = [df_co2, df_gdp, df_green_bonds, df_pop]\n",
    "\n",
    "for frame in dfs:\n",
    "    \n",
    "    df_main = df_main.merge(frame, left_on=['ISO3','year'], right_on = ['ISO3', 'year'], how = 'left')\n",
    "\n",
    "# Insert country name\n",
    "df_main['country'] = df_main['ISO2']\n",
    "df_main['country'].replace(iso_name, inplace=True)\n",
    "\n",
    "## Only keep relevant time period\n",
    "df_main = df_main[df_main['year'].isin(set(time_period))]\n",
    "\n",
    "# Check if all countries still in the dataset\n",
    "print(\"Number of countries after: \",len(df_main['country'].unique()) == len(eu_codes))\n",
    "\n",
    "## Check if all years still in the dataset for every country\n",
    "for c in df_main['country'].unique():\n",
    "    for_this_c = df_main[df_main['country'] == c]\n",
    "    all_years = (for_this_c['year'] == time_period).all()\n",
    "    if not all_years:\n",
    "        print(\"Not Consecutive years included for: \", c)\n",
    "print(\"Rest have all years included\")\n",
    "\n",
    "df_main\n"
   ]
  },
  {
   "cell_type": "code",
   "execution_count": null,
   "id": "e65b1228",
   "metadata": {},
   "outputs": [],
   "source": [
    "df_main.describe()"
   ]
  },
  {
   "cell_type": "code",
   "execution_count": null,
   "id": "6819fa4a",
   "metadata": {},
   "outputs": [],
   "source": [
    "df_main.info()"
   ]
  },
  {
   "cell_type": "markdown",
   "id": "6577294c",
   "metadata": {},
   "source": [
    "## Average DataFrame"
   ]
  },
  {
   "cell_type": "code",
   "execution_count": null,
   "id": "4dae3ddb",
   "metadata": {},
   "outputs": [],
   "source": [
    "# Making a average DataFrame\n",
    "df_average = df_main.groupby([\"year\"], as_index=False)\n",
    "df_average = df_average.mean()\n",
    "df_average\n"
   ]
  },
  {
   "cell_type": "markdown",
   "id": "be5aee30",
   "metadata": {},
   "source": [
    "## Total DataFrame"
   ]
  },
  {
   "cell_type": "code",
   "execution_count": null,
   "id": "b527209d",
   "metadata": {},
   "outputs": [],
   "source": [
    "# Making total DataFrame\n",
    "df_total = df_main.groupby([\"year\"], as_index=False)\n",
    "df_total = df_total.sum()\n",
    "df_total"
   ]
  },
  {
   "cell_type": "code",
   "execution_count": null,
   "id": "41dce2d6",
   "metadata": {},
   "outputs": [],
   "source": [
    "## Write all DataFrames to excel\n",
    "\n",
    "writer = pd.ExcelWriter('data/main.xlsx', engine='xlsxwriter')\n",
    "\n",
    "df_main.to_excel(writer, sheet_name = \"main\")\n",
    "df_average.to_excel(writer, sheet_name = \"average\")\n",
    "df_total.to_excel(writer, sheet_name = \"total\")\n",
    "#critical last step\n",
    "writer.save()"
   ]
  },
  {
   "cell_type": "code",
   "execution_count": null,
   "id": "6508b6ac",
   "metadata": {},
   "outputs": [],
   "source": [
    "s = \"country,year,iso_code,population,gdp,cement_co2,cement_co2_per_capita,co2,co2_growth_abs,co2_growth_prct,co2_including_luc,co2_including_luc_growth_abs,co2_including_luc_growth_prct,co2_including_luc_per_capita,co2_including_luc_per_gdp,co2_including_luc_per_unit_energy,co2_per_capita,co2_per_gdp,co2_per_unit_energy,coal_co2,coal_co2_per_capita,consumption_co2,consumption_co2_per_capita,consumption_co2_per_gdp,cumulative_cement_co2,cumulative_co2,cumulative_co2_including_luc,cumulative_coal_co2,cumulative_flaring_co2,cumulative_gas_co2,cumulative_luc_co2,cumulative_oil_co2,cumulative_other_co2,energy_per_capita,energy_per_gdp,flaring_co2,flaring_co2_per_capita,gas_co2,gas_co2_per_capita,ghg_excluding_lucf_per_capita,ghg_per_capita,land_use_change_co2,land_use_change_co2_per_capita,methane,methane_per_capita,nitrous_oxide,nitrous_oxide_per_capita,oil_co2,oil_co2_per_capita,other_co2_per_capita,other_industry_co2,primary_energy_consumption,share_global_cement_co2,share_global_co2,share_global_co2_including_luc,share_global_coal_co2,share_global_cumulative_cement_co2,share_global_cumulative_co2,share_global_cumulative_co2_including_luc,share_global_cumulative_coal_co2,share_global_cumulative_flaring_co2,share_global_cumulative_gas_co2,share_global_cumulative_luc_co2,share_global_cumulative_oil_co2,share_global_cumulative_other_co2,share_global_flaring_co2,share_global_gas_co2,share_global_luc_co2,share_global_oil_co2,share_global_other_co2,total_ghg,total_ghg_excluding_lucf,trade_co2,trade_co2_share\"\n",
    "\n",
    "for i in s.split(\",\"):\n",
    "    print(i)"
   ]
  },
  {
   "cell_type": "code",
   "execution_count": null,
   "id": "9594cc9c",
   "metadata": {},
   "outputs": [],
   "source": []
  }
 ],
 "metadata": {
  "kernelspec": {
   "display_name": "Python 3",
   "language": "python",
   "name": "python3"
  },
  "language_info": {
   "codemirror_mode": {
    "name": "ipython",
    "version": 3
   },
   "file_extension": ".py",
   "mimetype": "text/x-python",
   "name": "python",
   "nbconvert_exporter": "python",
   "pygments_lexer": "ipython3",
   "version": "3.8.8"
  },
  "vscode": {
   "interpreter": {
    "hash": "3ad933181bd8a04b432d3370b9dc3b0662ad032c4dfaa4e4f1596c548f763858"
   }
  }
 },
 "nbformat": 4,
 "nbformat_minor": 5
}
